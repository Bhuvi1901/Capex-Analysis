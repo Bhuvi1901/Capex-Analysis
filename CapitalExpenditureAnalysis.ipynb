{
  "nbformat": 4,
  "nbformat_minor": 0,
  "metadata": {
    "colab": {
      "provenance": []
    },
    "kernelspec": {
      "name": "python3",
      "display_name": "Python 3"
    },
    "language_info": {
      "name": "python"
    }
  },
  "cells": [
    {
      "cell_type": "code",
      "execution_count": 1,
      "metadata": {
        "id": "q6S4x8FAMVxT"
      },
      "outputs": [],
      "source": [
        "import pandas as pd\n",
        "import numpy as np"
      ]
    },
    {
      "cell_type": "code",
      "source": [
        "from google.colab import files\n",
        "uploaded = files.upload()"
      ],
      "metadata": {
        "colab": {
          "base_uri": "https://localhost:8080/",
          "height": 73
        },
        "id": "8ViZSupRMWjT",
        "outputId": "e528feec-cbaf-4cdd-a2e2-b98294749b77"
      },
      "execution_count": 2,
      "outputs": [
        {
          "output_type": "display_data",
          "data": {
            "text/plain": [
              "<IPython.core.display.HTML object>"
            ],
            "text/html": [
              "\n",
              "     <input type=\"file\" id=\"files-f5ae5b68-43ba-49a9-89ea-8c103c21b48a\" name=\"files[]\" multiple disabled\n",
              "        style=\"border:none\" />\n",
              "     <output id=\"result-f5ae5b68-43ba-49a9-89ea-8c103c21b48a\">\n",
              "      Upload widget is only available when the cell has been executed in the\n",
              "      current browser session. Please rerun this cell to enable.\n",
              "      </output>\n",
              "      <script>// Copyright 2017 Google LLC\n",
              "//\n",
              "// Licensed under the Apache License, Version 2.0 (the \"License\");\n",
              "// you may not use this file except in compliance with the License.\n",
              "// You may obtain a copy of the License at\n",
              "//\n",
              "//      http://www.apache.org/licenses/LICENSE-2.0\n",
              "//\n",
              "// Unless required by applicable law or agreed to in writing, software\n",
              "// distributed under the License is distributed on an \"AS IS\" BASIS,\n",
              "// WITHOUT WARRANTIES OR CONDITIONS OF ANY KIND, either express or implied.\n",
              "// See the License for the specific language governing permissions and\n",
              "// limitations under the License.\n",
              "\n",
              "/**\n",
              " * @fileoverview Helpers for google.colab Python module.\n",
              " */\n",
              "(function(scope) {\n",
              "function span(text, styleAttributes = {}) {\n",
              "  const element = document.createElement('span');\n",
              "  element.textContent = text;\n",
              "  for (const key of Object.keys(styleAttributes)) {\n",
              "    element.style[key] = styleAttributes[key];\n",
              "  }\n",
              "  return element;\n",
              "}\n",
              "\n",
              "// Max number of bytes which will be uploaded at a time.\n",
              "const MAX_PAYLOAD_SIZE = 100 * 1024;\n",
              "\n",
              "function _uploadFiles(inputId, outputId) {\n",
              "  const steps = uploadFilesStep(inputId, outputId);\n",
              "  const outputElement = document.getElementById(outputId);\n",
              "  // Cache steps on the outputElement to make it available for the next call\n",
              "  // to uploadFilesContinue from Python.\n",
              "  outputElement.steps = steps;\n",
              "\n",
              "  return _uploadFilesContinue(outputId);\n",
              "}\n",
              "\n",
              "// This is roughly an async generator (not supported in the browser yet),\n",
              "// where there are multiple asynchronous steps and the Python side is going\n",
              "// to poll for completion of each step.\n",
              "// This uses a Promise to block the python side on completion of each step,\n",
              "// then passes the result of the previous step as the input to the next step.\n",
              "function _uploadFilesContinue(outputId) {\n",
              "  const outputElement = document.getElementById(outputId);\n",
              "  const steps = outputElement.steps;\n",
              "\n",
              "  const next = steps.next(outputElement.lastPromiseValue);\n",
              "  return Promise.resolve(next.value.promise).then((value) => {\n",
              "    // Cache the last promise value to make it available to the next\n",
              "    // step of the generator.\n",
              "    outputElement.lastPromiseValue = value;\n",
              "    return next.value.response;\n",
              "  });\n",
              "}\n",
              "\n",
              "/**\n",
              " * Generator function which is called between each async step of the upload\n",
              " * process.\n",
              " * @param {string} inputId Element ID of the input file picker element.\n",
              " * @param {string} outputId Element ID of the output display.\n",
              " * @return {!Iterable<!Object>} Iterable of next steps.\n",
              " */\n",
              "function* uploadFilesStep(inputId, outputId) {\n",
              "  const inputElement = document.getElementById(inputId);\n",
              "  inputElement.disabled = false;\n",
              "\n",
              "  const outputElement = document.getElementById(outputId);\n",
              "  outputElement.innerHTML = '';\n",
              "\n",
              "  const pickedPromise = new Promise((resolve) => {\n",
              "    inputElement.addEventListener('change', (e) => {\n",
              "      resolve(e.target.files);\n",
              "    });\n",
              "  });\n",
              "\n",
              "  const cancel = document.createElement('button');\n",
              "  inputElement.parentElement.appendChild(cancel);\n",
              "  cancel.textContent = 'Cancel upload';\n",
              "  const cancelPromise = new Promise((resolve) => {\n",
              "    cancel.onclick = () => {\n",
              "      resolve(null);\n",
              "    };\n",
              "  });\n",
              "\n",
              "  // Wait for the user to pick the files.\n",
              "  const files = yield {\n",
              "    promise: Promise.race([pickedPromise, cancelPromise]),\n",
              "    response: {\n",
              "      action: 'starting',\n",
              "    }\n",
              "  };\n",
              "\n",
              "  cancel.remove();\n",
              "\n",
              "  // Disable the input element since further picks are not allowed.\n",
              "  inputElement.disabled = true;\n",
              "\n",
              "  if (!files) {\n",
              "    return {\n",
              "      response: {\n",
              "        action: 'complete',\n",
              "      }\n",
              "    };\n",
              "  }\n",
              "\n",
              "  for (const file of files) {\n",
              "    const li = document.createElement('li');\n",
              "    li.append(span(file.name, {fontWeight: 'bold'}));\n",
              "    li.append(span(\n",
              "        `(${file.type || 'n/a'}) - ${file.size} bytes, ` +\n",
              "        `last modified: ${\n",
              "            file.lastModifiedDate ? file.lastModifiedDate.toLocaleDateString() :\n",
              "                                    'n/a'} - `));\n",
              "    const percent = span('0% done');\n",
              "    li.appendChild(percent);\n",
              "\n",
              "    outputElement.appendChild(li);\n",
              "\n",
              "    const fileDataPromise = new Promise((resolve) => {\n",
              "      const reader = new FileReader();\n",
              "      reader.onload = (e) => {\n",
              "        resolve(e.target.result);\n",
              "      };\n",
              "      reader.readAsArrayBuffer(file);\n",
              "    });\n",
              "    // Wait for the data to be ready.\n",
              "    let fileData = yield {\n",
              "      promise: fileDataPromise,\n",
              "      response: {\n",
              "        action: 'continue',\n",
              "      }\n",
              "    };\n",
              "\n",
              "    // Use a chunked sending to avoid message size limits. See b/62115660.\n",
              "    let position = 0;\n",
              "    do {\n",
              "      const length = Math.min(fileData.byteLength - position, MAX_PAYLOAD_SIZE);\n",
              "      const chunk = new Uint8Array(fileData, position, length);\n",
              "      position += length;\n",
              "\n",
              "      const base64 = btoa(String.fromCharCode.apply(null, chunk));\n",
              "      yield {\n",
              "        response: {\n",
              "          action: 'append',\n",
              "          file: file.name,\n",
              "          data: base64,\n",
              "        },\n",
              "      };\n",
              "\n",
              "      let percentDone = fileData.byteLength === 0 ?\n",
              "          100 :\n",
              "          Math.round((position / fileData.byteLength) * 100);\n",
              "      percent.textContent = `${percentDone}% done`;\n",
              "\n",
              "    } while (position < fileData.byteLength);\n",
              "  }\n",
              "\n",
              "  // All done.\n",
              "  yield {\n",
              "    response: {\n",
              "      action: 'complete',\n",
              "    }\n",
              "  };\n",
              "}\n",
              "\n",
              "scope.google = scope.google || {};\n",
              "scope.google.colab = scope.google.colab || {};\n",
              "scope.google.colab._files = {\n",
              "  _uploadFiles,\n",
              "  _uploadFilesContinue,\n",
              "};\n",
              "})(self);\n",
              "</script> "
            ]
          },
          "metadata": {}
        },
        {
          "output_type": "stream",
          "name": "stdout",
          "text": [
            "Saving Dataset-Capex.csv to Dataset-Capex.csv\n"
          ]
        }
      ]
    },
    {
      "cell_type": "code",
      "source": [
        "CapexDS = pd.read_csv(\"Dataset-Capex.csv\")"
      ],
      "metadata": {
        "id": "rnDPp28eMaBR"
      },
      "execution_count": 3,
      "outputs": []
    },
    {
      "cell_type": "code",
      "source": [
        "from sklearn.model_selection import train_test_split, GridSearchCV, RandomizedSearchCV, cross_val_score\n",
        "from sklearn.ensemble import RandomForestRegressor, GradientBoostingRegressor\n",
        "from sklearn.preprocessing import StandardScaler, LabelEncoder\n",
        "from sklearn.metrics import mean_absolute_error, mean_squared_error, r2_score\n",
        "import xgboost as xgb\n",
        "from scipy.stats import randint\n",
        "from sklearn.preprocessing import OneHotEncoder\n",
        "from xgboost import XGBRegressor"
      ],
      "metadata": {
        "id": "Jr_LhK9UMdQe"
      },
      "execution_count": 4,
      "outputs": []
    },
    {
      "cell_type": "code",
      "source": [
        "CapexDS[['Allocated_Budget', 'Actual_Expenditure']] = CapexDS[['Allocated_Budget', 'Actual_Expenditure']].apply(pd.to_numeric, errors='coerce')\n",
        "CapexDS.fillna(0, inplace=True)"
      ],
      "metadata": {
        "id": "fVVV2OpZMg-L"
      },
      "execution_count": 5,
      "outputs": []
    },
    {
      "cell_type": "code",
      "source": [
        "CapexDS['Variance'] = CapexDS['Allocated_Budget'] - CapexDS['Actual_Expenditure']\n",
        "CapexDS['Budget_Status'] = np.where(CapexDS['Variance'] < 0, 'Over Budget', 'Under Budget')"
      ],
      "metadata": {
        "id": "JrsSszhtOSJX"
      },
      "execution_count": 6,
      "outputs": []
    },
    {
      "cell_type": "code",
      "source": [
        "if 'Project_Phase' in CapexDS.columns:\n",
        "    encoder = LabelEncoder()\n",
        "    CapexDS['Project_Phase_Encoded'] = encoder.fit_transform(CapexDS['Project_Phase'])"
      ],
      "metadata": {
        "id": "aJ-qn9H2OcWv"
      },
      "execution_count": 7,
      "outputs": []
    },
    {
      "cell_type": "code",
      "source": [
        "features = ['Allocated_Budget','Actual_Expenditure']\n",
        "if 'Project_Phase_Encoded' in CapexDS.columns:\n",
        "    features.append('Project_Phase_Encoded')\n",
        "\n",
        "X = CapexDS[features]\n",
        "y = CapexDS['Variance']"
      ],
      "metadata": {
        "id": "HXm0NqKVOhmP"
      },
      "execution_count": 16,
      "outputs": []
    },
    {
      "cell_type": "code",
      "source": [
        "X_train, X_test, y_train, y_test = train_test_split(X, y, test_size=0.2, random_state=42)\n",
        "scaler = StandardScaler()\n",
        "X_train_scaled = scaler.fit_transform(X_train)\n",
        "X_test_scaled = scaler.transform(X_test)"
      ],
      "metadata": {
        "id": "iv0HSlvvOpJa"
      },
      "execution_count": 17,
      "outputs": []
    },
    {
      "cell_type": "code",
      "source": [
        "print(X_train.head())\n",
        "print(X_test.head())"
      ],
      "metadata": {
        "colab": {
          "base_uri": "https://localhost:8080/"
        },
        "id": "gxPtr5ABRkku",
        "outputId": "cd6f57e3-731c-41c4-f0a9-20d615e1fe1d"
      },
      "execution_count": 18,
      "outputs": [
        {
          "output_type": "stream",
          "name": "stdout",
          "text": [
            "    Allocated_Budget  Actual_Expenditure  Project_Phase_Encoded\n",
            "55        1396207.78          1826253.94                      2\n",
            "88        3291308.03          4479915.72                      0\n",
            "26         821462.40          2782507.29                      1\n",
            "42        2024803.44          4167167.90                      0\n",
            "69        4354479.30          3882341.35                      0\n",
            "    Allocated_Budget  Actual_Expenditure  Project_Phase_Encoded\n",
            "83        3867191.44          1089058.57                      1\n",
            "53         955109.38          4113713.16                      1\n",
            "70        4022306.21           251581.39                      0\n",
            "45        2188662.46          4662634.26                      2\n",
            "44        4584729.12           534311.66                      2\n"
          ]
        }
      ]
    },
    {
      "cell_type": "code",
      "source": [
        "rf = RandomForestRegressor(n_estimators=100, random_state=1)\n",
        "rf.fit(X_train_scaled, y_train)\n",
        "y_pred_rf = rf.predict(X_test_scaled)\n",
        "\n",
        "rf_mse = mean_squared_error(y_test, y_pred_rf)\n",
        "print(f\"Random Forest MSE: {rf_mse}\")"
      ],
      "metadata": {
        "colab": {
          "base_uri": "https://localhost:8080/"
        },
        "id": "PyQsx-ofUN1H",
        "outputId": "ee0a7022-90d7-4b7a-b31f-0ce0cfc2abf9"
      },
      "execution_count": 19,
      "outputs": [
        {
          "output_type": "stream",
          "name": "stdout",
          "text": [
            "Random Forest MSE: 157063084311.75092\n"
          ]
        }
      ]
    },
    {
      "cell_type": "code",
      "source": [
        "X_train[\"Allocated_Budget\"] = np.log1p(X_train[\"Allocated_Budget\"])\n",
        "X_test[\"Allocated_Budget\"] = np.log1p(X_test[\"Allocated_Budget\"])"
      ],
      "metadata": {
        "id": "AGbUf69zVNrz"
      },
      "execution_count": 20,
      "outputs": []
    },
    {
      "cell_type": "code",
      "source": [
        "X_train[\"Budget_Utilization\"] = X_train[\"Actual_Expenditure\"] / X_train[\"Allocated_Budget\"]\n",
        "X_test[\"Budget_Utilization\"] = X_test[\"Actual_Expenditure\"] / X_test[\"Allocated_Budget\"]"
      ],
      "metadata": {
        "id": "lPut6XN4c0no"
      },
      "execution_count": 21,
      "outputs": []
    },
    {
      "cell_type": "code",
      "source": [
        "X_train.drop(columns=[\"Actual_Expenditure\"], inplace=True)\n",
        "X_test.drop(columns=[\"Actual_Expenditure\"], inplace=True)"
      ],
      "metadata": {
        "id": "vH7ApV4uc2tj"
      },
      "execution_count": 22,
      "outputs": []
    },
    {
      "cell_type": "code",
      "source": [
        "gb = GradientBoostingRegressor(n_estimators=200, learning_rate=0.05, random_state=1)\n",
        "gb.fit(X_train, y_train)\n",
        "y_pred_gb = gb.predict(X_test)\n",
        "\n",
        "gb_mse = mean_squared_error(y_test, y_pred_gb)\n",
        "print(f\"Gradient Boosting MSE: {gb_mse}\")"
      ],
      "metadata": {
        "colab": {
          "base_uri": "https://localhost:8080/"
        },
        "id": "EijryB0LdMH6",
        "outputId": "e1655078-3ab5-455e-f594-0d9fd2edd7dd"
      },
      "execution_count": 23,
      "outputs": [
        {
          "output_type": "stream",
          "name": "stdout",
          "text": [
            "Gradient Boosting MSE: 165837023381.2979\n"
          ]
        }
      ]
    },
    {
      "cell_type": "code",
      "source": [
        "gb = GradientBoostingRegressor(random_state=1)\n",
        "param_grid = {\n",
        "    \"n_estimators\": [100, 200, 300],\n",
        "    \"learning_rate\": [0.01, 0.05, 0.1],\n",
        "    \"max_depth\": [3, 5, 7]\n",
        "}\n",
        "\n",
        "grid_search = GridSearchCV(gb, param_grid, cv=5, scoring=\"neg_mean_squared_error\", n_jobs=-1)\n",
        "grid_search.fit(X_train, y_train)\n",
        "\n",
        "best_gb = grid_search.best_estimator_\n",
        "y_pred_best = best_gb.predict(X_test)\n",
        "\n",
        "final_mse = mean_squared_error(y_test, y_pred_best)\n",
        "print(f\"Optimized Gradient Boosting MSE: {final_mse}\")"
      ],
      "metadata": {
        "colab": {
          "base_uri": "https://localhost:8080/"
        },
        "id": "aISv8amOdOSh",
        "outputId": "9a7a1fdb-836c-4d53-ee45-67f106c1ecba"
      },
      "execution_count": 24,
      "outputs": [
        {
          "output_type": "stream",
          "name": "stdout",
          "text": [
            "Optimized Gradient Boosting MSE: 166109998442.21066\n"
          ]
        }
      ]
    },
    {
      "cell_type": "code",
      "source": [
        "xgb = XGBRegressor(n_estimators=500, learning_rate=0.03, max_depth=6, random_state=1)\n",
        "xgb.fit(X_train, y_train)\n",
        "y_pred_xgb = xgb.predict(X_test)\n",
        "\n",
        "xgb_mse = mean_squared_error(y_test, y_pred_xgb)\n",
        "print(f\"XGBoost MSE: {xgb_mse}\")"
      ],
      "metadata": {
        "colab": {
          "base_uri": "https://localhost:8080/"
        },
        "id": "JfHc6goadX8a",
        "outputId": "fefb89d0-4b7c-4f84-c805-e826c1ebed2d"
      },
      "execution_count": 25,
      "outputs": [
        {
          "output_type": "stream",
          "name": "stdout",
          "text": [
            "XGBoost MSE: 126214599184.36197\n"
          ]
        }
      ]
    },
    {
      "cell_type": "code",
      "source": [
        "xgb = XGBRegressor(random_state=1)\n",
        "\n",
        "param_grid = {\n",
        "    \"n_estimators\": [300, 500, 700],\n",
        "    \"learning_rate\": [0.01, 0.03, 0.05],\n",
        "    \"max_depth\": [4, 6, 8],\n",
        "    \"subsample\": [0.8, 1.0],\n",
        "    \"colsample_bytree\": [0.8, 1.0]\n",
        "}\n",
        "\n",
        "grid_search = GridSearchCV(xgb, param_grid, cv=5, scoring=\"neg_mean_squared_error\", n_jobs=-1)\n",
        "grid_search.fit(X_train, y_train)\n",
        "\n",
        "best_xgb = grid_search.best_estimator_\n",
        "y_pred_best_xgb = best_xgb.predict(X_test)\n",
        "\n",
        "final_xgb_mse = mean_squared_error(y_test, y_pred_best_xgb)\n",
        "print(f\"Optimized XGBoost MSE: {final_xgb_mse}\")\n"
      ],
      "metadata": {
        "colab": {
          "base_uri": "https://localhost:8080/"
        },
        "id": "XUe7Ng_HdnZR",
        "outputId": "294a93e7-5bb1-4310-bfb4-be159c011836"
      },
      "execution_count": 26,
      "outputs": [
        {
          "output_type": "stream",
          "name": "stdout",
          "text": [
            "Optimized XGBoost MSE: 97129103568.81747\n"
          ]
        }
      ]
    },
    {
      "cell_type": "code",
      "source": [
        "file_path = \"Dataset-Capex.csv\"\n",
        "df = pd.read_csv(file_path)\n",
        "\n",
        "df[\"Budget_Utilization\"] = df[\"Actual_Expenditure\"] / df[\"Allocated_Budget\"]\n",
        "df[\"Budget_Variance_Percent\"] = (df[\"Variance\"] / df[\"Allocated_Budget\"]) * 100\n",
        "df[\"Budget_Interaction\"] = df[\"Allocated_Budget\"] * df[\"Budget_Utilization\"]\n",
        "df[\"Expenditure_Interaction\"] = df[\"Actual_Expenditure\"] * df[\"Budget_Utilization\"]\n",
        "\n",
        "encoder = OneHotEncoder(sparse_output=False, drop=\"first\")\n",
        "encoded_phase = encoder.fit_transform(df[[\"Project_Phase\"]])\n",
        "encoded_df = pd.DataFrame(encoded_phase, columns=encoder.get_feature_names_out([\"Project_Phase\"]))\n",
        "\n",
        "X = pd.concat([df[[\"Allocated_Budget\", \"Actual_Expenditure\", \"Budget_Utilization\",\n",
        "                    \"Budget_Variance_Percent\", \"Budget_Interaction\", \"Expenditure_Interaction\"]],\n",
        "               encoded_df], axis=1)\n",
        "y = df[\"Variance\"]\n",
        "\n",
        "scaler = StandardScaler()\n",
        "X_scaled = scaler.fit_transform(X)\n",
        "\n",
        "X_train, X_test, y_train, y_test = train_test_split(X_scaled, y, test_size=0.2, random_state=42)\n",
        "xgb_model = XGBRegressor(n_estimators=50, max_depth=3, learning_rate=0.1, random_state=42)\n",
        "xgb_model.fit(X_train, y_train)\n",
        "\n",
        "y_pred_xgb = xgb_model.predict(X_test)\n",
        "mae_xgb = mean_absolute_error(y_test, y_pred_xgb)\n",
        "r2_xgb = r2_score(y_test, y_pred_xgb)\n",
        "\n",
        "print(f\"Mean Absolute Error: {mae_xgb:.2f}\")\n",
        "print(f\"R² Score: {r2_xgb:.2f}\")"
      ],
      "metadata": {
        "colab": {
          "base_uri": "https://localhost:8080/"
        },
        "id": "kDPTlLREeLSt",
        "outputId": "5575d88f-df52-4c80-aee1-94f5facbe213"
      },
      "execution_count": 29,
      "outputs": [
        {
          "output_type": "stream",
          "name": "stdout",
          "text": [
            "Mean Absolute Error: 6103.36\n",
            "R² Score: 0.93\n"
          ]
        }
      ]
    },
    {
      "cell_type": "code",
      "source": [
        "df.to_csv(\"CapEx_PredictionsFinal1.csv\", index=False)"
      ],
      "metadata": {
        "id": "hFORZoFFfvs_"
      },
      "execution_count": null,
      "outputs": []
    },
    {
      "cell_type": "code",
      "source": [],
      "metadata": {
        "id": "7xK78V29lhit"
      },
      "execution_count": null,
      "outputs": []
    },
    {
      "cell_type": "code",
      "source": [
        "df_test = pd.DataFrame(X_test, columns=X.columns)\n",
        "\n",
        "# Convert predicted values to a Pandas Series and assign to df_test\n",
        "df_test[\"Predicted_Variance\"] = pd.Series(y_pred_xgb, index=df_test.index)\n",
        "df_test.to_csv(\"CapEx_Predictions.csv\", index=False)"
      ],
      "metadata": {
        "id": "sBKFY0wPg8Ld"
      },
      "execution_count": null,
      "outputs": []
    },
    {
      "cell_type": "code",
      "source": [
        "print(\"X_test shape:\", X_test.shape)\n",
        "print(\"y_pred_xgb shape:\", y_pred_xgb.shape)"
      ],
      "metadata": {
        "colab": {
          "base_uri": "https://localhost:8080/"
        },
        "id": "eN6JrAZdkJbz",
        "outputId": "37f8d842-0b43-427e-df55-52c21ced8df6"
      },
      "execution_count": null,
      "outputs": [
        {
          "output_type": "stream",
          "name": "stdout",
          "text": [
            "X_test shape: (20, 8)\n",
            "y_pred_xgb shape: (20,)\n"
          ]
        }
      ]
    },
    {
      "cell_type": "code",
      "source": [],
      "metadata": {
        "id": "YG8KBxyelBv1"
      },
      "execution_count": null,
      "outputs": []
    }
  ]
}